{
 "metadata": {
  "language_info": {
   "codemirror_mode": {
    "name": "ipython",
    "version": 3
   },
   "file_extension": ".py",
   "mimetype": "text/x-python",
   "name": "python",
   "nbconvert_exporter": "python",
   "pygments_lexer": "ipython3",
   "version": "3.8.9"
  },
  "orig_nbformat": 2,
  "kernelspec": {
   "name": "python389jvsc74a57bd08ce69ff4a0e74b055a94681a9edd9b8e92b9c9328f9e6fc4ee9dad2d844e5a82",
   "display_name": "Python 3.8.9 64-bit"
  }
 },
 "nbformat": 4,
 "nbformat_minor": 2,
 "cells": [
  {
   "cell_type": "code",
   "execution_count": 1,
   "metadata": {},
   "outputs": [
    {
     "output_type": "stream",
     "name": "stdout",
     "text": [
      "D:\\qlib_data\\cn_data\n",
      "[11576:MainThread](2021-05-24 19:31:49,478) INFO - qlib.Initialization - [config.py:276] - default_conf: client.\n",
      "[11576:MainThread](2021-05-24 19:31:51,516) WARNING - qlib.Initialization - [config.py:291] - redis connection failed(host=127.0.0.1 port=6379), cache will not be used!\n",
      "[11576:MainThread](2021-05-24 19:31:52,265) INFO - qlib.Initialization - [__init__.py:46] - qlib successfully initialized based on client settings.\n",
      "[11576:MainThread](2021-05-24 19:31:52,267) INFO - qlib.Initialization - [__init__.py:47] - data_path=D:\\qlib_data\\cn_data\n"
     ]
    }
   ],
   "source": [
    "import qlib\n",
    "import pandas as pd\n",
    "from qlib.config import REG_CN\n",
    "import platform\n",
    "\n",
    "# use default data\n",
    "# NOTE: need to download data from remote: python scripts/get_data.py qlib_data_cn --target_dir ~/.qlib/qlib_data/cn_data\n",
    "# 使用默认的本地数据\n",
    "provider_uri = \"~/.qlib/qlib_data/cn_data\"  # target_dir\n",
    "if(platform.system()=='Windows'):\n",
    "    provider_uri = \"D:\\qlib_data\\cn_data\"  # target_dir\n",
    "else:\n",
    "    provider_uri = \"~/.qlib/qlib_data/cn_data\"  # target_dir\n",
    "\n",
    "print(provider_uri)\n",
    "\n",
    "\n",
    "# 使用本地数据和中国市场初始化\n",
    "qlib.init(provider_uri=provider_uri, region=REG_CN)"
   ]
  },
  {
   "cell_type": "code",
   "execution_count": 8,
   "metadata": {},
   "outputs": [
    {
     "output_type": "stream",
     "name": "stdout",
     "text": [
      "{'market': 'csi300', 'filter_pipe': []}\n['SH600000', 'SH600004', 'SH600009', 'SH600010', 'SH600011']\n"
     ]
    }
   ],
   "source": [
    "from qlib.data import D\n",
    "# 查看股票信息字段\n",
    "# 获取沪深300全部股票代码\n",
    "instruments = D.instruments(market=\"csi300\")\n",
    "\n",
    "sock_list = D.list_instruments(instruments=instruments, start_time=\"2020-01-01\", end_time=\"2020-12-30\",as_list=True)\n",
    "\n",
    "# 展示最后5个股票代码\n",
    "print(sock_list[:5])\n",
    "\n"
   ]
  },
  {
   "cell_type": "code",
   "execution_count": 6,
   "metadata": {},
   "outputs": [
    {
     "output_type": "execute_result",
     "data": {
      "text/plain": [
       "                         $close      $volume  Ref($close, 1)  Mean($close, 3)  \\\n",
       "instrument datetime                                                             \n",
       "SH600011   2020-01-02  2.117137  125420800.0        2.094614         2.100871   \n",
       "           2020-01-03  2.117137   75680744.0        2.117137         2.109629   \n",
       "           2020-01-06  2.120891  103948688.0        2.117137         2.118388   \n",
       "           2020-01-07  2.135906  110828088.0        2.120891         2.124645   \n",
       "           2020-01-08  2.098368  110095376.0        2.135906         2.118388   \n",
       "\n",
       "                       $high-$low  \n",
       "instrument datetime                \n",
       "SH600011   2020-01-02    0.033784  \n",
       "           2020-01-03    0.026277  \n",
       "           2020-01-06    0.026277  \n",
       "           2020-01-07    0.022523  \n",
       "           2020-01-08    0.000000  "
      ],
      "text/html": "<div>\n<style scoped>\n    .dataframe tbody tr th:only-of-type {\n        vertical-align: middle;\n    }\n\n    .dataframe tbody tr th {\n        vertical-align: top;\n    }\n\n    .dataframe thead th {\n        text-align: right;\n    }\n</style>\n<table border=\"1\" class=\"dataframe\">\n  <thead>\n    <tr style=\"text-align: right;\">\n      <th></th>\n      <th></th>\n      <th>$close</th>\n      <th>$volume</th>\n      <th>Ref($close, 1)</th>\n      <th>Mean($close, 3)</th>\n      <th>$high-$low</th>\n    </tr>\n    <tr>\n      <th>instrument</th>\n      <th>datetime</th>\n      <th></th>\n      <th></th>\n      <th></th>\n      <th></th>\n      <th></th>\n    </tr>\n  </thead>\n  <tbody>\n    <tr>\n      <th rowspan=\"5\" valign=\"top\">SH600011</th>\n      <th>2020-01-02</th>\n      <td>2.117137</td>\n      <td>125420800.0</td>\n      <td>2.094614</td>\n      <td>2.100871</td>\n      <td>0.033784</td>\n    </tr>\n    <tr>\n      <th>2020-01-03</th>\n      <td>2.117137</td>\n      <td>75680744.0</td>\n      <td>2.117137</td>\n      <td>2.109629</td>\n      <td>0.026277</td>\n    </tr>\n    <tr>\n      <th>2020-01-06</th>\n      <td>2.120891</td>\n      <td>103948688.0</td>\n      <td>2.117137</td>\n      <td>2.118388</td>\n      <td>0.026277</td>\n    </tr>\n    <tr>\n      <th>2020-01-07</th>\n      <td>2.135906</td>\n      <td>110828088.0</td>\n      <td>2.120891</td>\n      <td>2.124645</td>\n      <td>0.022523</td>\n    </tr>\n    <tr>\n      <th>2020-01-08</th>\n      <td>2.098368</td>\n      <td>110095376.0</td>\n      <td>2.135906</td>\n      <td>2.118388</td>\n      <td>0.000000</td>\n    </tr>\n  </tbody>\n</table>\n</div>"
     },
     "metadata": {},
     "execution_count": 6
    }
   ],
   "source": [
    "instruments = ['SH600011']\n",
    "# fields 哪里来？\n",
    "fields = ['$close', '$volume', 'Ref($close, 1)', 'Mean($close, 3)', '$high-$low']\n",
    "D.features(instruments, fields,start_time=\"2020-01-01\", end_time=\"2020-12-30\", freq='day').head()"
   ]
  },
  {
   "cell_type": "code",
   "execution_count": null,
   "metadata": {},
   "outputs": [],
   "source": []
  }
 ]
}