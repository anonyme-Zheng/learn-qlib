{
 "metadata": {
  "language_info": {
   "codemirror_mode": {
    "name": "ipython",
    "version": 3
   },
   "file_extension": ".py",
   "mimetype": "text/x-python",
   "name": "python",
   "nbconvert_exporter": "python",
   "pygments_lexer": "ipython3",
   "version": "3.8.9"
  },
  "orig_nbformat": 2,
  "kernelspec": {
   "name": "python389jvsc74a57bd08ce69ff4a0e74b055a94681a9edd9b8e92b9c9328f9e6fc4ee9dad2d844e5a82",
   "display_name": "Python 3.8.9 64-bit"
  }
 },
 "nbformat": 4,
 "nbformat_minor": 2,
 "cells": [
  {
   "cell_type": "code",
   "execution_count": 1,
   "metadata": {},
   "outputs": [],
   "source": [
    "import qlib\n",
    "import pandas as pd\n",
    "from qlib.config import REG_CN\n",
    "from qlib.contrib.model.gbdt import LGBModel\n",
    "from qlib.contrib.data.handler import Alpha158\n",
    "from qlib.contrib.strategy.strategy import TopkDropoutStrategy\n",
    "from qlib.contrib.evaluate import (\n",
    "    backtest as normal_backtest,\n",
    "    risk_analysis,\n",
    ")\n",
    "from qlib.utils import exists_qlib_data, init_instance_by_config\n",
    "from qlib.workflow import R\n",
    "from qlib.workflow.record_temp import SignalRecord, PortAnaRecord\n",
    "from qlib.utils import flatten_dict\n",
    "import platform"
   ]
  },
  {
   "cell_type": "code",
   "execution_count": 6,
   "metadata": {},
   "outputs": [
    {
     "output_type": "stream",
     "name": "stderr",
     "text": [
      "[15172:MainThread](2021-05-23 14:22:53,334) INFO - qlib.Initialization - [config.py:276] - default_conf: client.\n",
      "D:\\qlib_data\\cn_data\n",
      "[15172:MainThread](2021-05-23 14:22:55,377) WARNING - qlib.Initialization - [config.py:291] - redis connection failed(host=127.0.0.1 port=6379), cache will not be used!\n",
      "[15172:MainThread](2021-05-23 14:22:55,378) INFO - qlib.Initialization - [__init__.py:46] - qlib successfully initialized based on client settings.\n",
      "[15172:MainThread](2021-05-23 14:22:55,380) INFO - qlib.Initialization - [__init__.py:47] - data_path=D:\\qlib_data\\cn_data\n"
     ]
    }
   ],
   "source": [
    "# use default data\n",
    "# NOTE: need to download data from remote: python scripts/get_data.py qlib_data_cn --target_dir ~/.qlib/qlib_data/cn_data\n",
    "# 使用默认的本地数据\n",
    "provider_uri = \"~/.qlib/qlib_data/cn_data\"  # target_dir\n",
    "if(platform.system()=='Windows'):\n",
    "    provider_uri = \"D:\\qlib_data\\cn_data\"  # target_dir\n",
    "else:\n",
    "    provider_uri = \"~/.qlib/qlib_data/cn_data\"  # target_dir\n",
    "\n",
    "print(provider_uri)\n",
    "\n",
    "\n",
    "# 使用本地数据和中国市场初始化\n",
    "qlib.init(provider_uri=provider_uri, region=REG_CN)"
   ]
  },
  {
   "cell_type": "code",
   "execution_count": 8,
   "metadata": {},
   "outputs": [
    {
     "output_type": "stream",
     "name": "stdout",
     "text": [
      "[Timestamp('2020-01-02 00:00:00') Timestamp('2020-01-03 00:00:00')\n Timestamp('2020-01-06 00:00:00') Timestamp('2020-01-07 00:00:00')\n Timestamp('2020-01-08 00:00:00')]\n['SH600000', 'SH600004', 'SH600009', 'SH600010', 'SH600011']\n"
     ]
    }
   ],
   "source": [
    "\n",
    "\n",
    "from qlib.data import D\n",
    "\n",
    "# 获取交易日期和全部股票代码\n",
    "trade_date = D.calendar(start_time=\"2020-01-01\", end_time=\"2020-11-30\", freq=\"day\")\n",
    "\n",
    "# 展现前5个交易日期\n",
    "print(trade_date[:5])\n",
    "\n",
    "\n",
    "# 获取沪深300全部股票代码\n",
    "instruments = D.instruments(market=\"csi300\")\n",
    "sock_list = D.list_instruments(instruments=instruments, start_time=\"2020-01-01\", end_time=\"2020-12-30\",as_list=True)\n",
    "\n",
    "# 展示最后5个股票代码\n",
    "print(sock_list[:5])\n"
   ]
  },
  {
   "cell_type": "code",
   "execution_count": 10,
   "metadata": {},
   "outputs": [
    {
     "output_type": "stream",
     "name": "stdout",
     "text": [
      "                          $close     $volume\ninstrument datetime                         \nSZ002236   2020-01-02  32.685493  70629488.0\n           2020-01-03  32.853664  37219624.0\n           2020-01-06  33.694496  48228080.0\n           2020-01-07  33.220570  40416324.0\n           2020-01-08  32.028118  55896308.0\n"
     ]
    }
   ],
   "source": [
    "# 获取指定股票指定日期指定字段数据\n",
    "features_df = D.features(instruments=[\"SZ002236\"],fields=[\"$close\",\"$volume\"], start_time=\"2020-01-01\",end_time=\"2020-12-30\", freq=\"day\")\n",
    "\n",
    "print(features_df.head())\n",
    "\n",
    "# fields ？？？"
   ]
  },
  {
   "cell_type": "code",
   "execution_count": 11,
   "metadata": {},
   "outputs": [
    {
     "output_type": "stream",
     "name": "stdout",
     "text": [
      "['SZ000001', 'SZ000002', 'SZ000063', 'SZ000066', 'SZ000069']\n"
     ]
    }
   ],
   "source": [
    "# 自定义股票池\n",
    "from qlib.data.filter import NameDFilter, ExpressionDFilter\n",
    "# 静态Filter\n",
    "nameDFilter = NameDFilter(name_rule_re=\"SZ[0-9!]\")\n",
    "\n",
    "# 动态Filter: 后复权价格大于1元\n",
    "expressoionDFilter = ExpressionDFilter(rule_expression=\"$close>1\")\n",
    "\n",
    "# 获取满足价格的股票\n",
    "instruments = D.instruments(market=\"csi300\",filter_pipe=[nameDFilter, expressoionDFilter])\n",
    "sock_list = D.list_instruments(instruments=instruments, start_time=\"2020-01-01\", end_time=\"2020-12-30\",as_list=True)\n",
    "\n",
    "# 展示最后5个股票代码\n",
    "print(sock_list[:5])\n"
   ]
  },
  {
   "cell_type": "code",
   "execution_count": 12,
   "metadata": {},
   "outputs": [
    {
     "output_type": "stream",
     "name": "stderr",
     "text": [
      "[15172:MainThread](2021-05-23 15:19:27,396) INFO - qlib.timer - [log.py:81] - Time cost: 137.619s | Loading data Done\n",
      "[15172:MainThread](2021-05-23 15:19:27,504) INFO - qlib.timer - [log.py:81] - Time cost: 0.093s | DropnaLabel Done\n",
      "[15172:MainThread](2021-05-23 15:19:27,984) INFO - qlib.timer - [log.py:81] - Time cost: 0.479s | CSZScoreNorm Done\n",
      "[15172:MainThread](2021-05-23 15:19:27,985) INFO - qlib.timer - [log.py:81] - Time cost: 0.577s | fit & process data Done\n",
      "[15172:MainThread](2021-05-23 15:19:27,986) INFO - qlib.timer - [log.py:81] - Time cost: 138.209s | Init data Done\n",
      "['KMID', 'KLEN', 'KMID2', 'KUP', 'KUP2', 'KLOW', 'KLOW2', 'KSFT', 'KSFT2', 'OPEN0', 'HIGH0', 'LOW0', 'VWAP0', 'ROC5', 'ROC10', 'ROC20', 'ROC30', 'ROC60', 'MA5', 'MA10', 'MA20', 'MA30', 'MA60', 'STD5', 'STD10', 'STD20', 'STD30', 'STD60', 'BETA5', 'BETA10', 'BETA20', 'BETA30', 'BETA60', 'RSQR5', 'RSQR10', 'RSQR20', 'RSQR30', 'RSQR60', 'RESI5', 'RESI10', 'RESI20', 'RESI30', 'RESI60', 'MAX5', 'MAX10', 'MAX20', 'MAX30', 'MAX60', 'MIN5', 'MIN10', 'MIN20', 'MIN30', 'MIN60', 'QTLU5', 'QTLU10', 'QTLU20', 'QTLU30', 'QTLU60', 'QTLD5', 'QTLD10', 'QTLD20', 'QTLD30', 'QTLD60', 'RANK5', 'RANK10', 'RANK20', 'RANK30', 'RANK60', 'RSV5', 'RSV10', 'RSV20', 'RSV30', 'RSV60', 'IMAX5', 'IMAX10', 'IMAX20', 'IMAX30', 'IMAX60', 'IMIN5', 'IMIN10', 'IMIN20', 'IMIN30', 'IMIN60', 'IMXD5', 'IMXD10', 'IMXD20', 'IMXD30', 'IMXD60', 'CORR5', 'CORR10', 'CORR20', 'CORR30', 'CORR60', 'CORD5', 'CORD10', 'CORD20', 'CORD30', 'CORD60', 'CNTP5', 'CNTP10', 'CNTP20', 'CNTP30', 'CNTP60', 'CNTN5', 'CNTN10', 'CNTN20', 'CNTN30', 'CNTN60', 'CNTD5', 'CNTD10', 'CNTD20', 'CNTD30', 'CNTD60', 'SUMP5', 'SUMP10', 'SUMP20', 'SUMP30', 'SUMP60', 'SUMN5', 'SUMN10', 'SUMN20', 'SUMN30', 'SUMN60', 'SUMD5', 'SUMD10', 'SUMD20', 'SUMD30', 'SUMD60', 'VMA5', 'VMA10', 'VMA20', 'VMA30', 'VMA60', 'VSTD5', 'VSTD10', 'VSTD20', 'VSTD30', 'VSTD60', 'WVMA5', 'WVMA10', 'WVMA20', 'WVMA30', 'WVMA60', 'VSUMP5', 'VSUMP10', 'VSUMP20', 'VSUMP30', 'VSUMP60', 'VSUMN5', 'VSUMN10', 'VSUMN20', 'VSUMN30', 'VSUMN60', 'VSUMD5', 'VSUMD10', 'VSUMD20', 'VSUMD30', 'VSUMD60', 'LABEL0']\n"
     ]
    }
   ],
   "source": [
    "# 生成 Alpha158 特征（当期因子）和标签（下期收益）\n",
    "from qlib.contrib.data.handler import Alpha158\n",
    "\n",
    "# 设置日期、股票池等参数\n",
    "data_handler_config = {\n",
    "    \"start_time\":\"2020-01-01\",      # 用来定义完整数据起止日期\n",
    "    \"end_time\":\"2020-12-30\",\n",
    "    \"fit_start_time\":\"2020-01-01\",  # 拟合数据起止日期（fit_start_time 和 fit_end_time）\n",
    "    \"fit_end_time\":\"2020-06-30\",\n",
    "    \"instruments\":instruments,\n",
    "}\n",
    "\n",
    "h = Alpha158(**data_handler_config)\n",
    "\n",
    "# 获取列名(因子名称)\n",
    "print(h.get_cols())\n",
    "\n",
    "# 获取标签(收益)\n",
    "Alpha158_df_label = h.fetch(col_set=\"label\")\n",
    "print(Alpha158_df_label)"
   ]
  },
  {
   "cell_type": "code",
   "execution_count": 13,
   "metadata": {},
   "outputs": [
    {
     "output_type": "stream",
     "name": "stdout",
     "text": [
      "                         LABEL0\ndatetime   instrument          \n2020-01-02 SZ000001   -0.006403\n           SZ000002   -0.016849\n           SZ000063    0.004104\n           SZ000069    0.002581\n           SZ000100   -0.008602\n...                         ...\n2020-09-25 SZ300347         NaN\n           SZ300408         NaN\n           SZ300413         NaN\n           SZ300433         NaN\n           SZ300601         NaN\n\n[19230 rows x 1 columns]\n"
     ]
    }
   ],
   "source": [
    "# 获取标签(收益)\n",
    "Alpha158_df_label = h.fetch(col_set=\"label\")\n",
    "print(Alpha158_df_label)"
   ]
  },
  {
   "cell_type": "code",
   "execution_count": 14,
   "metadata": {},
   "outputs": [
    {
     "output_type": "stream",
     "name": "stdout",
     "text": [
      "                           KMID      KLEN     KMID2       KUP      KUP2  \\\ndatetime   instrument                                                     \n2020-01-02 SZ000001    0.013213  0.024024  0.549999  0.004805  0.200000   \n           SZ000002   -0.007317  0.033232 -0.220181  0.024390  0.733943   \n           SZ000063   -0.005889  0.018788 -0.313437  0.003926  0.208952   \n           SZ000069   -0.010178  0.024173 -0.421052  0.008906  0.368419   \n           SZ000100    0.013304  0.035477  0.374999  0.008869  0.249999   \n...                         ...       ...       ...       ...       ...   \n2020-09-25 SZ300347    0.009418  0.031660  0.297469  0.022242  0.702531   \n           SZ300408    0.011619  0.021787  0.533331  0.008715  0.400002   \n           SZ300413    0.014902  0.028392  0.524862  0.010510  0.370167   \n           SZ300433   -0.015789  0.031579 -0.499997  0.000929  0.029414   \n           SZ300601   -0.021212  0.063011 -0.336641  0.028770  0.456576   \n\n                           KLOW     KLOW2      KSFT     KSFT2     OPEN0  ...  \\\ndatetime   instrument                                                    ...   \n2020-01-02 SZ000001    0.006006  0.250001  0.014414  0.600000  0.986959  ...   \n           SZ000002    0.001525  0.045876 -0.030183 -0.908248  1.007371  ...   \n           SZ000063    0.008974  0.477611 -0.000841 -0.044778  1.005924  ...   \n           SZ000069    0.005089  0.210529 -0.013995 -0.578942  1.010283  ...   \n           SZ000100    0.013304  0.375002  0.017738  0.500002  0.986871  ...   \n...                         ...       ...       ...       ...       ...  ...   \n2020-09-25 SZ300347    0.000000  0.000000 -0.012824 -0.405063  0.990670  ...   \n           SZ300408    0.001452  0.066667  0.004357  0.199997  0.988514  ...   \n           SZ300413    0.002980  0.104971  0.007372  0.259665  0.985317  ...   \n           SZ300433    0.014861  0.470589 -0.001858 -0.058823  1.016043  ...   \n           SZ300601    0.013030  0.206783 -0.036952 -0.586434  1.021672  ...   \n\n                         VSUMN5   VSUMN10   VSUMN20   VSUMN30   VSUMN60  \\\ndatetime   instrument                                                     \n2020-01-02 SZ000001    0.202955  0.347399  0.401683  0.513692  0.493590   \n           SZ000002    0.364050  0.469754  0.445059  0.471782  0.504656   \n           SZ000063    0.440750  0.561359  0.459056  0.452693  0.481661   \n           SZ000069    0.068603  0.356423  0.433266  0.446887  0.481980   \n           SZ000100    0.437174  0.543715  0.493727  0.473334  0.475902   \n...                         ...       ...       ...       ...       ...   \n2020-09-25 SZ300347    0.594857  0.508237  0.538178  0.521351  0.526369   \n           SZ300408    0.210927  0.508074  0.522600  0.476320  0.541307   \n           SZ300413    0.428346  0.676687  0.642549  0.515998  0.517741   \n           SZ300433    0.750042  0.778911  0.578567  0.512691  0.532542   \n           SZ300601    0.465855  0.508975  0.514560  0.523693  0.500761   \n\n                         VSUMD5   VSUMD10   VSUMD20   VSUMD30   VSUMD60  \ndatetime   instrument                                                    \n2020-01-02 SZ000001    0.594090  0.305202  0.196634 -0.027385  0.012819  \n           SZ000002    0.271900  0.060491  0.109883  0.056437 -0.009313  \n           SZ000063    0.118500 -0.122718  0.081887  0.094614  0.036679  \n           SZ000069    0.862793  0.287154  0.133468  0.106225  0.036040  \n           SZ000100    0.125652 -0.087431  0.012546  0.053333  0.048196  \n...                         ...       ...       ...       ...       ...  \n2020-09-25 SZ300347   -0.189714 -0.016473 -0.076355 -0.042701 -0.052738  \n           SZ300408    0.578146 -0.016148 -0.045201  0.047359 -0.082613  \n           SZ300413    0.143307 -0.353373 -0.285098 -0.031997 -0.035482  \n           SZ300433   -0.500084 -0.557822 -0.157134 -0.025382 -0.065085  \n           SZ300601    0.068290 -0.017950 -0.029119 -0.047386 -0.001522  \n\n[19230 rows x 158 columns]\n"
     ]
    }
   ],
   "source": [
    "# 获取特征(因子)\n",
    "Alpha158_df_feature = h.fetch(col_set=\"feature\")\n",
    "print(Alpha158_df_feature)"
   ]
  },
  {
   "cell_type": "code",
   "execution_count": null,
   "metadata": {},
   "outputs": [],
   "source": [
    "# 导入 Qlib 模块代码\n",
    "import time;\n",
    "import numpy as np \n",
    "import pandas as pd \n",
    "\n",
    "import qlib\n",
    "from qlib.config import REG_CN\n",
    "from qlib.contrib.model.gbdt import LGBModel\n",
    "from qlib.contrib.data.handler import Alpha158\n",
    "from qlib.contrib.strategy.strategy import TopkDropoutStrategy\n",
    "from qlib.contrib.evaluate import (\n",
    "    backtest as normal_backtest,\n",
    "    risk_analysis,\n",
    ")\n",
    "\n",
    "from qlib.utils import exists_qlib_data, init_instance_by_config\n",
    "from qlib.workflow import R\n",
    "from qlib.utils import flatten_dict"
   ]
  },
  {
   "cell_type": "code",
   "execution_count": null,
   "metadata": {},
   "outputs": [],
   "source": [
    "# 定义股票池和基准指数代码\n",
    "market = instruments\n",
    "benchmark = \"csi300\""
   ]
  },
  {
   "cell_type": "code",
   "execution_count": null,
   "metadata": {},
   "outputs": [],
   "source": [
    "# 因子生成参数 data_handler_config 和模型训练参数 task 设置代码\n",
    "data_handler_config = {\n",
    "    \"start_time\":\"2020-01-01\",\n",
    "    \"end_time\":\"2020-12-30\",\n",
    "    \"fit_start_time\":\"2020-01-01\",\n",
    "    \"fit_end_time\":\"2020-06-30\",\n",
    "    \"instruments\":market,\n",
    "}\n",
    "\n",
    "task = {\n",
    "    \"model\": {\n",
    "        \"class\":\"LGBModel\",\n",
    "        \"module_path\":\"qlib.contrib.model.gbdt\",\n",
    "        \"kwargs\":{\n",
    "            \"loss\":\"mse\",\n",
    "            \"colsample_bytree\":0.8879,\n",
    "            \"learning_rate\": 0.0421,\n",
    "            \"subsample\": 0.8789,\n",
    "            \"lambda_11\": 205.6999,\n",
    "            \"lambda_12\": 580.9768,\n",
    "            \"max_depth\":    8,\n",
    "            \"num_leaves\": 210,\n",
    "            \"num_threads\": 20,\n",
    "        },\n",
    "    },\n",
    "    \"dataset\":{\n",
    "        \"class\": \"DatasetH\",\n",
    "        \"model_path\":\"qlib.data.dataset\",\n",
    "        \"kwargs\":{\n",
    "            \n",
    "        }\n",
    "    }\n",
    "}"
   ]
  }
 ]
}