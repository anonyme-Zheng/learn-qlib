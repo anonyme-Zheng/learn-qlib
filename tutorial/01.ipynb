{
 "metadata": {
  "language_info": {
   "codemirror_mode": {
    "name": "ipython",
    "version": 3
   },
   "file_extension": ".py",
   "mimetype": "text/x-python",
   "name": "python",
   "nbconvert_exporter": "python",
   "pygments_lexer": "ipython3",
   "version": "3.8.9"
  },
  "orig_nbformat": 2,
  "kernelspec": {
   "name": "python389jvsc74a57bd08ce69ff4a0e74b055a94681a9edd9b8e92b9c9328f9e6fc4ee9dad2d844e5a82",
   "display_name": "Python 3.8.9 64-bit"
  }
 },
 "nbformat": 4,
 "nbformat_minor": 2,
 "cells": [
  {
   "cell_type": "code",
   "execution_count": 1,
   "metadata": {},
   "outputs": [],
   "source": [
    "import qlib\n",
    "import pandas as pd\n",
    "from qlib.config import REG_CN\n",
    "from qlib.contrib.model.gbdt import LGBModel\n",
    "from qlib.contrib.data.handler import Alpha158\n",
    "from qlib.contrib.strategy.strategy import TopkDropoutStrategy\n",
    "from qlib.contrib.evaluate import (\n",
    "    backtest as normal_backtest,\n",
    "    risk_analysis,\n",
    ")\n",
    "from qlib.utils import exists_qlib_data, init_instance_by_config\n",
    "from qlib.workflow import R\n",
    "from qlib.workflow.record_temp import SignalRecord, PortAnaRecord\n",
    "from qlib.utils import flatten_dict\n",
    "import platform"
   ]
  },
  {
   "cell_type": "code",
   "execution_count": 6,
   "metadata": {},
   "outputs": [
    {
     "output_type": "stream",
     "name": "stderr",
     "text": [
      "[15172:MainThread](2021-05-23 14:22:53,334) INFO - qlib.Initialization - [config.py:276] - default_conf: client.\n",
      "D:\\qlib_data\\cn_data\n",
      "[15172:MainThread](2021-05-23 14:22:55,377) WARNING - qlib.Initialization - [config.py:291] - redis connection failed(host=127.0.0.1 port=6379), cache will not be used!\n",
      "[15172:MainThread](2021-05-23 14:22:55,378) INFO - qlib.Initialization - [__init__.py:46] - qlib successfully initialized based on client settings.\n",
      "[15172:MainThread](2021-05-23 14:22:55,380) INFO - qlib.Initialization - [__init__.py:47] - data_path=D:\\qlib_data\\cn_data\n"
     ]
    }
   ],
   "source": [
    "# use default data\n",
    "# NOTE: need to download data from remote: python scripts/get_data.py qlib_data_cn --target_dir ~/.qlib/qlib_data/cn_data\n",
    "# 使用默认的本地数据\n",
    "provider_uri = \"~/.qlib/qlib_data/cn_data\"  # target_dir\n",
    "if(platform.system()=='Windows'):\n",
    "    provider_uri = \"D:\\qlib_data\\cn_data\"  # target_dir\n",
    "else:\n",
    "    provider_uri = \"~/.qlib/qlib_data/cn_data\"  # target_dir\n",
    "\n",
    "print(provider_uri)\n",
    "\n",
    "\n",
    "# 使用本地数据和中国市场初始化\n",
    "qlib.init(provider_uri=provider_uri, region=REG_CN)"
   ]
  },
  {
   "cell_type": "code",
   "execution_count": 8,
   "metadata": {},
   "outputs": [
    {
     "output_type": "stream",
     "name": "stdout",
     "text": [
      "[Timestamp('2020-01-02 00:00:00') Timestamp('2020-01-03 00:00:00')\n Timestamp('2020-01-06 00:00:00') Timestamp('2020-01-07 00:00:00')\n Timestamp('2020-01-08 00:00:00')]\n['SH600000', 'SH600004', 'SH600009', 'SH600010', 'SH600011']\n"
     ]
    }
   ],
   "source": [
    "\n",
    "\n",
    "from qlib.data import D\n",
    "\n",
    "# 获取交易日期和全部股票代码\n",
    "trade_date = D.calendar(start_time=\"2020-01-01\", end_time=\"2020-11-30\", freq=\"day\")\n",
    "\n",
    "# 展现前5个交易日期\n",
    "print(trade_date[:5])\n",
    "\n",
    "\n",
    "# 获取沪深300全部股票代码\n",
    "instruments = D.instruments(market=\"csi300\")\n",
    "sock_list = D.list_instruments(instruments=instruments, start_time=\"2020-01-01\", end_time=\"2020-12-30\",as_list=True)\n",
    "\n",
    "# 展示最后5个股票代码\n",
    "print(sock_list[:5])\n"
   ]
  },
  {
   "cell_type": "code",
   "execution_count": 10,
   "metadata": {},
   "outputs": [
    {
     "output_type": "stream",
     "name": "stdout",
     "text": [
      "                          $close     $volume\ninstrument datetime                         \nSZ002236   2020-01-02  32.685493  70629488.0\n           2020-01-03  32.853664  37219624.0\n           2020-01-06  33.694496  48228080.0\n           2020-01-07  33.220570  40416324.0\n           2020-01-08  32.028118  55896308.0\n"
     ]
    }
   ],
   "source": [
    "# 获取指定股票指定日期指定字段数据\n",
    "features_df = D.features(instruments=[\"SZ002236\"],fields=[\"$close\",\"$volume\"], start_time=\"2020-01-01\",end_time=\"2020-12-30\", freq=\"day\")\n",
    "\n",
    "print(features_df.head())\n",
    "\n",
    "# fields ？？？"
   ]
  },
  {
   "cell_type": "code",
   "execution_count": 11,
   "metadata": {},
   "outputs": [
    {
     "output_type": "stream",
     "name": "stdout",
     "text": [
      "['SZ000001', 'SZ000002', 'SZ000063', 'SZ000066', 'SZ000069']\n"
     ]
    }
   ],
   "source": [
    "# 自定义股票池\n",
    "from qlib.data.filter import NameDFilter, ExpressionDFilter\n",
    "# 静态Filter\n",
    "nameDFilter = NameDFilter(name_rule_re=\"SZ[0-9!]\")\n",
    "\n",
    "# 动态Filter: 后复权价格大于1元\n",
    "expressoionDFilter = ExpressionDFilter(rule_expression=\"$close>1\")\n",
    "\n",
    "# 获取满足价格的股票\n",
    "instruments = D.instruments(market=\"csi300\",filter_pipe=[nameDFilter, expressoionDFilter])\n",
    "sock_list = D.list_instruments(instruments=instruments, start_time=\"2020-01-01\", end_time=\"2020-12-30\",as_list=True)\n",
    "\n",
    "# 展示最后5个股票代码\n",
    "print(sock_list[:5])\n"
   ]
  },
  {
   "cell_type": "code",
   "execution_count": null,
   "metadata": {},
   "outputs": [],
   "source": [
    "# 生成 Alpha158 特征（当期因子）和标签（下期收益）\n",
    "from qlib.contrib.data.handler import Alpha158\n",
    "\n",
    "# 设置日期、股票池等参数"
   ]
  }
 ]
}